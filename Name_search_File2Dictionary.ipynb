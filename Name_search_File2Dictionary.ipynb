{
 "cells": [
  {
   "cell_type": "code",
   "execution_count": 10,
   "metadata": {},
   "outputs": [],
   "source": [
    "import numpy as np\n",
    "import pandas as pd\n",
    "import re # for handling regular expression\n",
    "import os"
   ]
  },
  {
   "cell_type": "code",
   "execution_count": 13,
   "metadata": {},
   "outputs": [
    {
     "name": "stdout",
     "output_type": "stream",
     "text": [
      "1. Aadavan:\n",
      "\n"
     ]
    }
   ],
   "source": [
    "file = open(\"HindiNames4Boys.txt\", \"r\")\n",
    "#print(file.read(5))\n",
    "print(file.readline())\n",
    "file.close()"
   ]
  },
  {
   "cell_type": "code",
   "execution_count": 37,
   "metadata": {},
   "outputs": [
    {
     "name": "stdout",
     "output_type": "stream",
     "text": [
      "Spread brightness in your son’s life by naming him Aadavan, which means ‘sun’.\n"
     ]
    }
   ],
   "source": [
    "file = \"Spread brightness in your son’s life by naming him Aadavan, which means ‘sun’.\"\n",
    "print(file)"
   ]
  },
  {
   "cell_type": "code",
   "execution_count": 38,
   "metadata": {},
   "outputs": [
    {
     "ename": "AttributeError",
     "evalue": "'int' object has no attribute 'isdigit'",
     "output_type": "error",
     "traceback": [
      "\u001b[1;31m---------------------------------------------------------------------------\u001b[0m",
      "\u001b[1;31mAttributeError\u001b[0m                            Traceback (most recent call last)",
      "\u001b[1;32m<ipython-input-38-aaf19a0cdcd8>\u001b[0m in \u001b[0;36m<module>\u001b[1;34m()\u001b[0m\n\u001b[0;32m     12\u001b[0m         \u001b[1;32mif\u001b[0m \u001b[0mf\u001b[0m\u001b[1;33m[\u001b[0m\u001b[1;36m0\u001b[0m\u001b[1;33m]\u001b[0m\u001b[1;33m==\u001b[0m\u001b[1;34m\"\\n\"\u001b[0m\u001b[1;33m:\u001b[0m\u001b[1;33m\u001b[0m\u001b[0m\n\u001b[0;32m     13\u001b[0m             \u001b[1;32mcontinue\u001b[0m\u001b[1;33m\u001b[0m\u001b[0m\n\u001b[1;32m---> 14\u001b[1;33m         \u001b[1;32mif\u001b[0m \u001b[0mf\u001b[0m\u001b[1;33m[\u001b[0m\u001b[1;36m0\u001b[0m\u001b[1;33m]\u001b[0m\u001b[1;33m.\u001b[0m\u001b[0misdigit\u001b[0m\u001b[1;33m(\u001b[0m\u001b[1;33m)\u001b[0m \u001b[1;32mand\u001b[0m \u001b[0mx\u001b[0m\u001b[1;33m==\u001b[0m\u001b[1;36m0\u001b[0m\u001b[1;33m:\u001b[0m\u001b[1;33m\u001b[0m\u001b[0m\n\u001b[0m\u001b[0;32m     15\u001b[0m             \u001b[1;31m#print(f.split(\" \")[1])\u001b[0m\u001b[1;33m\u001b[0m\u001b[1;33m\u001b[0m\u001b[0m\n\u001b[0;32m     16\u001b[0m             \u001b[1;31m#name_key = f.split(\" \")[1]\u001b[0m\u001b[1;33m\u001b[0m\u001b[1;33m\u001b[0m\u001b[0m\n",
      "\u001b[1;31mAttributeError\u001b[0m: 'int' object has no attribute 'isdigit'"
     ]
    }
   ],
   "source": [
    "x=0\n",
    "#counter=0\n",
    "name_key=\" \"\n",
    "name_value = \" \"\n",
    "name_details = {}\n",
    "with open(\"HindiNames4Boys.txt\", \"r\") as file:\n",
    "    #file = file.replace(\"'\", \"\")\n",
    "    #while True:\n",
    "    for i in range(20):\n",
    "        f = file.readline()\n",
    "        if not f: break\n",
    "        if f[0]==\"\\n\":\n",
    "            continue\n",
    "        if f[0].isdigit() and x==0:\n",
    "            #print(f.split(\" \")[1])\n",
    "            #name_key = f.split(\" \")[1]\n",
    "            name_key = re.findall(r\"[\\w']+\", f)[1]\n",
    "            #print(name_key)\n",
    "            x = 1\n",
    "            #counter=counter+1\n",
    "        elif x==1:\n",
    "            #name_value = f\n",
    "            name_value = f.replace(r\"'\", r\"\\'\")\n",
    "            print(f)\n",
    "            x=0\n",
    "        name_details[name_key] = name_value\n",
    "\n",
    "#print(name_details)  \n",
    "        "
   ]
  },
  {
   "cell_type": "code",
   "execution_count": 39,
   "metadata": {},
   "outputs": [
    {
     "name": "stdout",
     "output_type": "stream",
     "text": [
      "{'Aadavan': 'Spread brightness in your sonâ€™s life by naming him Aadavan, which means â€˜sunâ€™.\\n', 'Aahan': 'Aahan is one of the most popular Hindu baby boy names of 2017. It means â€˜dawn, morning gloryâ€™.\\n', 'Aakav': 'Aakav is a short and simple name meaning â€˜form or shapeâ€™.\\n', 'Aakesh': 'Aakesh would make a stylish alternative to Akash. It means â€˜lord of the skyâ€™.\\n', 'Aakil': 'Aakil, meaning â€˜intelligent or smartâ€™, is a charming title for a future genius.\\n', 'Aanan': 'Aanan is a catchy name, meaning â€˜appearanceâ€™.\\n', 'Aanav': 'Aanav is the opposite of Daanav and means â€˜humaneâ€™.\\n', 'Aarush': 'A name that is widely popular with the Hindus, Aarush means â€˜bright, shining, or sunâ€™.\\n', 'Aayu': 'Aayu, meaning â€˜life spanâ€™, would make a lovely choice for parents looking for a vowel-laden name.\\n', 'Abhik': 'Abhik is a pleasant name, meaning â€˜belovedâ€™ and â€˜fearlessâ€™.\\n', 'Achintya': 'Acintya, meaning â€˜unthinkableâ€™, sizzles enough to be unique.\\n', 'Adbhuta': 'This Sanskrit origin name has several positive connotations such as â€˜extra ordinary, remarkable, fabulous, and miraculousâ€™.\\n', 'Adhija': 'Adhija, meaning â€˜superior by birthâ€™, is blazing with popularity in India.\\n', 'Adri': 'Adri, meaning â€˜rock, stone, mountainâ€™, will have your child grow up to be a strong and brave man.\\n', 'Adith': 'The meaning of Adith is â€˜from the beginning or sunâ€™.\\n', 'Advit': 'Advit is a unique Hindu baby boy name, which also means â€˜uniqueâ€™.\\n', 'Adyant': 'This versatile name has its root in the Sanskrit language. Adyant means â€˜beginning of the endâ€™.\\n', 'Aekansh': 'Another modern Hindu baby boy name, meaning â€˜uniqueâ€™.\\n', 'Agraga': 'Help your child grow up with leadership qualities by naming him Agraga, which means â€˜leaderâ€™.\\n', 'Ahan': 'Drawn from the natural world, Ahan, means â€˜dawnâ€™.\\n', 'Ahil': 'This name, meaning â€˜princeâ€™, has been made hugely popular via Salman Khanâ€™s nephew, Ahil.\\n', 'Ainesh': 'We love the etymology of this name. It means â€˜sunâ€™s gloryâ€™.\\n', 'Aksaja': 'Aksaja is one of the names of Lord Vishnu. It means â€˜thunderbolt or diamondâ€™.\\n', 'Amand': 'Parents who want an active and agile baby can name their child Amand, which means â€˜active or brightâ€™.\\n', 'Amas': 'We canâ€™t help but love this name. Amas means â€˜soft or tenderâ€™.\\n', 'Amava': 'Amava, meaning â€˜strong or impetuousâ€™, is flashy, hip, and sticks well with the ever popular trend of â€˜aâ€™ ending name.\\n', 'Amay': 'Amay is one of the names of Lord Ganesha.\\n', 'Ambaka': 'In Sanskrit, Ambaka means â€˜an eyeâ€™ or â€˜having three eyesâ€™.\\n', 'Ambhoja': 'With a fascinating ring to it, this name means â€˜water bornâ€™. You could give your Aquarian babies this name.\\n', 'Anay': 'This Sanskrit moniker, meaning â€˜without a superiorâ€™, is widely popular with the Marathis.\\n', 'Anish': 'Anish is a kickass name, meaning â€˜supreme, paramountâ€™.\\n', 'Anuh': 'Anuh is one of the least used names in India. It means â€˜calm or contentâ€™.\\n', 'Anvay': 'Anvay is derived from Sanskrit word â€˜anvayaâ€™, meaning â€˜joined or integratedâ€™.\\n', 'Apurva': 'Apurva is a strong title, meaning â€˜novel or unmatchedâ€™.\\n', 'Aradhy': 'Aradhy is a traditional Hindu name, meaning â€˜to be worshipedâ€™.\\n', 'Archis': 'Archis is a sizzling hot name, meaning â€˜ray of lightâ€™.\\n', 'Aribam': 'Aribam is an inspirational Hindu name, meaning â€˜leaderâ€™.\\n', 'Arihan': 'How about giving your son a strong and bold name such as Arihan, which means â€˜destroyer of enemiesâ€™.\\n', 'Arin': 'Arin, meaning â€˜discussionâ€™, is ready to take over the charts in a few years.\\n', 'Arit': 'The name Arit, meaning â€˜praisedâ€™, will add a splash of coolness to your childâ€™s personality.\\n', 'Arochan': 'The name, meaning â€˜bright, radiant, or shiningâ€™ makes us want to head outdoors and soak in the sun.\\n', 'Arpit': 'A glamorous baby name with loads of appeal, Arpit means â€˜to dedicate or give inâ€™.\\n', 'Arth': 'An intellectual name, Arth means â€˜meaningâ€™.\\n', 'Ashmayu': 'This moniker comes with the option of a cool nickname, Ash. Ashmayu means â€˜ray of lightâ€™.\\n', 'Aswad': 'This ancient, but rarely heard name literally means â€˜relishing your foodâ€™.\\n', 'Atharv': 'Atharv, meaning â€˜wise or learnedâ€™, is originally the name of a Vedic text.\\n', 'Atishay': 'Atishay is an everyday name, meaning â€˜wonderful, excellentâ€™.\\n', 'Avyakta': 'This Lord Krishnaâ€™s name denotes the one who sees the world crystal clear.\\n', 'Bhadrak': 'In Purana, Bhadrak is the name of the king of Anga. It means â€˜handsome, brave, or goodâ€™.\\n', 'Bhavatu': 'Bhavatu is a basically a Sanskrit term, meaning â€˜amen or okayâ€™.\\n', 'Bodhi': 'This Sanskrit name is gaining popularity, not just in India, but all over the world. It means â€˜awakening or enlightenmentâ€™.\\n', 'Chaayan': 'Technically, Chaayan means â€˜picking or collectingâ€™, but it also means â€˜moonâ€™.\\n', 'Chaitanya': 'This name, meaning â€˜energy or vitalityâ€™, was borne by Chaitanya Mahaprabhu, a great Vaishnavite saint.\\n', 'Chaitya': 'Chaitya, meaning â€˜perceivableâ€™, is sure to make major waves this year.\\n', 'Chakshan': 'We love how this name sounds. Chakshan means â€˜good lookingâ€™.\\n', 'Charun': 'Charun, meaning â€˜one with beautiful eyesâ€™ is a nice alternative to common name Varun.\\n', 'Chinmay': 'Chinmay is a name of Lord Ganesha and means â€˜consisting of pure thoughtâ€™.\\n', 'Chitayu': 'A name for the intelligent folks, Chitayu means â€˜born of the intellectâ€™.\\n', 'Chitin': 'Chittin, meaning â€˜intelligentâ€™, is fresh and just rolls off the tongue.\\n', 'Chitvan': 'Chitvan, meaning â€˜look or glanceâ€™, would make an illuming choice for your child.\\n', 'Daivey': 'Daivey perfectly symbolizes the sentiment you feel for your little one. It means â€˜dearly lovedâ€™.\\n', 'Daiwik': 'Parents looking for a spiritual name should look no further than Daiwik. It means â€˜Godâ€™s graceâ€™.\\n', 'Deekshant': 'Deekshant, meaning â€˜gift of Godâ€™, is a simple, yet stunning baby name.\\n', 'Deepit': 'Deepit, meaning â€˜passionate, illuminated, inflamed, or excitedâ€™, gives off a positive and energetic vibe.\\n', 'Devaj': 'This preppy name fits with current favorites such as Devin or Dheeraj. It means â€˜born of the Godsâ€™.\\n', 'Devak': 'This delightful name, meaning â€˜divine, glorious, piousâ€™ is indeed a winsome choice.\\n', 'Devin': 'Devin is a divine baby name, meaning â€˜resembling a God or poetâ€™.\\n', 'Devyan': 'Devyan is literally an out of the world name, meaning â€˜serving the godsâ€™.\\n', 'Dhanvin': 'Dhanvin, one of the names of Lord Shiva, is too precious for words.\\n', 'Dhavak': 'Dhavak is a robust and fierce name, meaning â€˜forerunnerâ€™.\\n', 'Dhavit': 'A boy with this name will definitely have a pure and clean soul. It means â€˜purifiedâ€™.\\n', 'Dhir': 'Teach your child the virtue of persistence by naming him Dhir, which means â€˜patienceâ€™.\\n', 'Dhira': 'Dhira is a fierce or fearless name, meaning â€˜braveâ€™.\\n', 'Dhrishnu': 'If youâ€™re up for traditional Hindu names, pick Dhrishnu, which means â€˜son of Manuâ€™.\\n', 'Dhrsita': 'This latest Hindu boy name originates from Sanskrit word â€˜dhRSitaâ€™, which means â€˜brave or boldâ€™.\\n', 'Dhven': 'Dhven is a mighty and majestic unique Hindu name, meaning â€˜godlyâ€™.\\n', 'Divij': 'This Sanskrit name means â€˜sky born or divineâ€™.\\n', 'Divit': 'Divit, meaning â€˜immortalâ€™, brings to mind a happy-go-lucky boy, whoâ€™s always up for a laugh.\\n', 'Doshagya': 'Doshagya is derived from Sanskrit term â€˜doSajJaâ€™, meaning â€˜he who knows what is evil and avoids itâ€™.\\n', 'Dravina': 'This name means â€˜power, wealth, or strengthâ€™.\\n', 'Edhas': 'Fill your childâ€™s life with joy by naming him Edhas, which means â€˜happinessâ€™.\\n', 'Ehan': 'Ehan, meaning â€˜expectedâ€™, could help parents set some expectations of their children.\\n', 'Ehit': 'A boy with this name is sure to have a jovial personality. Ehit means â€˜ever-smilingâ€™.\\n', 'Elil': 'Another lovely name, Elil means â€˜handsomeâ€™.\\n', 'Erish': 'Erish, meaning â€˜to cherishâ€™, will teach your child to value every big and small things in life.\\n', 'Galav': 'Galav is an uncommon botanical name, meaning â€˜bark of lotus treeâ€™.\\n', 'Gaman': 'Gaman is a classic sounding name, meaning â€˜undergoing, attainingâ€™.\\n', 'Gana': 'Pay tribute to Lord Shiva by naming your son Gana, which means â€˜tribe or groupâ€™.\\n', 'Ganak': 'Ganak has an unusual appeal that makes every parent swoon. It means â€˜mathematician or one who calculatesâ€™.\\n', 'Gaoushik': 'Gaoushik is one of the rarely heard names of Lord Buddha.\\n', 'Hariaksh': 'Hariaksh is a unique name of Lord Shiva.\\n', 'Harij': 'Harij is a mindful name, meaning â€˜horizonâ€™.\\n', 'Harin': 'Harin, meaning â€˜pureâ€™, is slowly making its way into the mainstream.\\n', 'Harishva': 'No one can ever guess that this modern sounding name harks centuries back. Harishva is one of the names of Lord Shiva.\\n', 'Harman': 'This moniker is widely popular with the Punjabis and means â€˜lordâ€™s heartâ€™.\\n', 'Harshill': 'Harshill would make a unique alternative to Harsh. It means â€˜joyfulâ€™.\\n', 'Harshu': 'This cute baby name means â€˜deerâ€™.\\n', 'Harsith': 'Harsith, meaning â€˜joy, happinessâ€™ is quite a charmer.\\n', 'Harith': 'Parents looking for color inspired name can zero in on Harith, which means â€˜green colorâ€™.\\n', 'Hemil': 'A name with a beautiful ring, Hemil means â€˜goldâ€™.\\n', 'Hiresh': 'Hiresh is a beautiful and uncommon Hindu boy name, meaning â€˜king of gemsâ€™.\\n', 'Hriday': 'Vintage lovers should feast their eyes on Hriday, meaning â€˜heartâ€™.\\n', 'Hridhaan': 'This moniker is derived from Sanskrit elements â€˜hridâ€™ and â€˜dhaanâ€™, which means â€˜one with a great heartâ€™.\\n', 'Harshit': 'This cheery name, meaning â€˜happy or cheerfulâ€™, would be a perfect name for your son.\\n', 'Hrutesh': 'This name, meaning â€˜lord of springsâ€™, would fit well with the current trend of seasonal names.\\n', 'Ibhan': 'Ibhan is a practical and timeless name of Lord Ganesha.\\n', 'Idhayan': 'Idhayan is a lovely name with a unique tone. It means â€˜joy of heartâ€™.\\n', 'Ihit': 'Ihit is a playful and lighthearted name, meaning â€˜prize or honorâ€™.\\n', 'Ijay': 'The name Ijay has its roots in Hindu mythology. It means â€˜Lord Vishnuâ€™.\\n', 'Ikshan': 'Ikshan is a Sanskrit noun referring to â€˜sight or superintendenceâ€™.\\n', 'Illesh': 'A name with a different touch, Illesh means â€˜lord of the earthâ€™.\\n', 'Iravaj': 'Iravaj, meaning â€˜born of waterâ€™, is perfect for a Scorpion or Cancerian baby.\\n', 'Irish': 'Nope, we not talking about people of Ireland here. Irish is a legit Hindu name, meaning â€˜lord of the earthâ€™.\\n', 'Ish': 'It cannot get shorter than this. Ish is a name of Lord Vishnu.\\n', 'Ishin': 'Should you be looking for a bold and inspiring baby name, you must consider Ishin, which means â€˜commandingâ€™.\\n', 'Ishir': 'This cool sounding name is originally another name for Agni or fire. It means â€˜powerful or refreshingâ€™.\\n', 'Ishivatva': 'Ishivatva is one of those names that will make anyone stop and look again. It means â€˜superior or supremeâ€™.\\n', 'Jogesha': 'Jogesha is a variant of Yogesh, which means â€˜The Lord of Yogaâ€™.\\n', 'Joshit': 'Joshit, meaning â€˜pleased, delightedâ€™, is a cute pick with tons of power.\\n', 'Kaanishk': 'Kaanishk was the name Lord Vishnuâ€™s vehicle.\\n', 'Kahan': 'Kahan is one of the names of Lord Krishna.\\n', 'Kalagya': 'Kalagya is a term usually used for an â€˜astrologer or one who is skilled in artsâ€™.\\n', 'Kalin': 'Set your child on the path to success by naming him Kalin, which means â€˜flourishing, or developing rapidly and successfullyâ€™.\\n', 'Kalita': 'Kalita is an ancient Sanskrit word, which means â€˜made or formedâ€™.\\n', 'Kama': 'Kama, the name of the Hindu god of love, is the name of Lakshmiâ€™s son.\\n', 'Kamada': 'In the Mahabharata, Kamada was the name of Skandaâ€™s follower. It means â€˜giving what is wishedâ€™.\\n', 'Kamin': 'Kamin, meaning â€˜impassioned, desirousâ€™, is too adorable to pass up.\\n', 'Kanan': 'This moniker is becoming increasingly popular because of the Indian YouTube sensation. Kanan means â€˜forestâ€™.\\n', 'Kanav': 'Kanav is a pleasant sounding name, meaning â€˜an old yet wise sageâ€™.\\n', 'Kanha': 'This name is linked with divinity as itâ€™s one of the names of none other than Lord Krishna. It means â€˜dark or blackâ€™.\\n', 'Kanj': 'Kanj is one of the names of Lord Brahma.\\n', 'Karali': 'Karali is one of the seven tongues of the God of fire.\\n', 'Kavan': 'Kavan is edgy, short, and super cute. It means â€˜waterâ€™.\\n', 'Kavindu': 'Kavindu is one of the names of Valmiki. It means â€˜the moon of poetsâ€™.\\n', 'Kavish': 'This unique Hindu boy name refers to the â€˜lord of poetsâ€™.\\n', 'Khalin': 'Hereâ€™s one of those Hindu names you donâ€™t get to hear every day. Khalin means â€˜one who possesses threshing-floorsâ€™.\\n', 'Kiaan': 'This friendly name means â€˜ancient or kingâ€™.\\n', 'Kishen': 'Kishen is the modern form of Krishna. It means â€˜black or darkâ€™.\\n', 'Ksaita': 'Ksaita, meaning â€˜princeâ€™, is a stylish name that many people would love to use.\\n', 'Kshana': 'Lord Ganesha is also named Kshana because his swiftness is beyond measure.\\n', 'Kunal': 'Kunal, meaning â€˜one with beautiful eyesâ€™, is a handsome name for a boy.\\n', 'Lusha': 'Lusha, meaning â€˜saffronâ€™, was the name of Nisada and Chanakiâ€™s son.\\n', 'Madhuj': 'Parents who want a nature-inspired name can go for Madhuj, which means â€˜wax, beeswaxâ€™.\\n', 'Mahin': 'Mahin is a playful name with a grounded meaning. It means â€˜earthâ€™.\\n', 'Mahir': 'A child with this name will surely grow up to be a genius. Mahir means â€˜expertâ€™.\\n', 'Mahit': 'Mahit, a fine alternative to the name Mohit, means â€˜esteemed or honoredâ€™.\\n', 'Manayu': 'This Hindu name is full of magic. It means â€˜desirous, devotedâ€™.\\n', 'Mayank': 'Parents looking for a celestial name can choose Mayank, which means â€˜moonâ€™.\\n', 'Mayin': 'As per Rig Vega, Mayin in the creator of the universe. Literally, the name means â€˜one who has the skill of enchantmentâ€™.\\n', 'Mayur': 'The name Mayur means â€˜peacockâ€™.\\n', 'Milan': 'Milan is a dreamy and elegant name, meaning â€˜unionâ€™.\\n', 'Nadin': 'Nadin is a flowing name, meaning â€˜lord of riversâ€™.\\n', 'Naksh': 'This short and sweet name means either â€˜featuresâ€™ or â€˜moonâ€™.\\n', 'Naman': 'In this Hindu mythology, Naman represents good fundamental nature.\\n', 'Navneet': 'The name Navneet means â€˜one who is ever newâ€™ in Sanskrit.\\n', 'Nayat': 'If you happen to be a fan of â€˜atâ€™ ending names, Nayat would be a perfect pick. It means â€˜leading or guidingâ€™.\\n', 'Neer': 'Another beautiful name for water sign babies, Neer means â€˜waterâ€™.\\n', 'Nimay': 'Baby names ending with â€˜ayâ€™ have always been a favorite with parents. Nimay means â€˜change, barter, or exchangeâ€™.\\n', 'Niraj': 'Let your child hit the waves with this baby name, meaning â€˜born in waterâ€™ or â€˜illuminateâ€™.\\n', 'Nrpati': 'Nrpati is all class, strength, and royalty. It means â€˜lord of men, king, or princeâ€™.\\n', 'Ojasvat': 'Ojasvat is hot right now. It means â€˜strong or energeticâ€™.\\n', 'Omkar': 'Another naming option with religious sentiments. Omkar is derived from Om, a sacred syllable in Hinduism.\\n', 'Onain': 'Onain is a quintessential masculine name, with an uncommon meaning. It means â€˜visionâ€™.\\n', 'Onir': 'Give your child a bright and shining future by naming him Onir, which means â€˜shiningâ€™.\\n', 'Panna': 'Panna is a Hindi name, meaning â€˜emeraldâ€™ or â€˜having qualities of an emeraldâ€™.\\n', 'Parthiv': 'Parthiv, meaning â€˜royalâ€™, is apt for your little prince.\\n', 'Posha': 'Any parent would want their child to see â€˜growth and prosperityâ€™ in whatever they do.\\n', 'Poshit': 'Donâ€™t you think Poshit sounds incredibly royal? It means â€˜nourishedâ€™.\\n', 'Prajeshvara': 'Prajeshvara, meaning â€˜lord of the creaturesâ€™, has a mysterious touch to it.\\n', 'Pranay': 'Pranay is an extremely lovable name, meaning â€˜affection or loveâ€™.\\n', 'Pratik': 'A perfect name for artsy parents, Pratik means â€˜symbol or imageâ€™.\\n', 'Pravir': 'The rhythmic quality of this name will make it stand out from the crowd. Pravir means â€˜braveâ€™.\\n', 'Prayan': 'Prayan means â€˜progress or commencementâ€™.\\n', 'Punit': 'Punit is a lovely name with a vintage aura. It means â€˜cleaned or purifiedâ€™.\\n', 'Purav': 'Keep up with the trend of directional names by naming your son Purav, which means â€˜east directionâ€™.\\n', 'Purnit': 'Purnit is a darn cool name, meaning â€˜completeâ€™.\\n', 'Rahasya': 'Those who are inclined towards mystery and adventure would like the name Rahasya, which means â€˜mysteryâ€™.\\n', 'Rakshan': 'Rakshan, meaning â€˜protector or preservationâ€™, is the 928th name of Lord Vishnu.\\n', 'Raktim': 'Raktim is a powerful and to the point name, meaning â€˜vibrant or redâ€™.\\n', 'Rasajja': 'Rasajja, meaning â€˜one who understands the rasasâ€™, is a precious and unique Hindu name.\\n', 'Rathik': 'Rathik, meaning â€˜rider of a chariot or loved oneâ€™, is sure to capture the hearts of everyone who hears it.\\n', 'Ravishu': 'Ravishu is an airy name, full of life. It means â€˜god of loveâ€™.\\n', 'Rbhu': 'In The Vishnu Purana, Rbhu was the name of Brahmaâ€™s son, who was a brilliant scholar.\\n', 'Ridhaan': 'Ridhaan is a soulful baby name, meaning â€˜searcherâ€™.\\n', 'Rijul': 'This striking name means â€˜innocent and honestâ€™.\\n', 'Rodas': 'Rodas, meaning â€˜heaven and earthâ€™, is a gorgeous name that GenX parents would love.\\n', 'Rohak': 'Rohak, meaning â€˜climber, kind of spiritâ€™ is a baby name that will never go out of style.\\n', 'Rohil': 'This name, meaning â€˜grown, risingâ€™, is sure to be setting trends soon.\\n', 'Romik': 'Those looking for an earthy name can opt for Romik, which means â€˜magnet, saline earth or the salt extracted from itâ€™.\\n', 'Romir': 'Romir is an ancient name with a modern touch. It means â€˜interesting or pleasantâ€™.\\n', 'Ronit': 'Ronit is a beautiful Hindu name, meaning â€˜a song of prosperityâ€™.\\n', 'Ruchir': 'This name, meaning â€˜charming, beautifulâ€™ drips with charisma.\\n', 'Sahil': 'Sahil, meaning â€˜beach or shoreâ€™, has a charm, which makes it extremely alluring.\\n', 'Saket': 'Saket is the name of the ancient Ayodhya. It means â€˜a place close to heavenâ€™.\\n', 'Sankalp': 'Sankalp has an aura which no one can deny. It means â€˜determinationâ€™.\\n', 'Saphal': 'Saphal is a powerful and stately name, meaning â€˜successful or productiveâ€™.\\n', 'Sarin': 'Parents who like â€˜inâ€™ ending name can circle on Sarin, which means â€˜helpfulâ€™.\\n', 'Sarva': 'The name Sarva originates from Shivaâ€™s association with Rudra. It means â€˜all or everythingâ€™.\\n', 'Sarvagya': 'A stately name, rich is panache, Sarvagya means â€˜all knowingâ€™.\\n', 'Sayaka': 'Sayaka, meaning â€˜sword, arrowâ€™, is an illuminating name that shines above the rest.\\n', 'Sayujya': 'Sayujya is a traditional Sanskrit name, meaning â€˜intimate union or merger with the divineâ€™.\\n', 'Shaarad': 'Shaarad is an easy breezy name, meaning â€˜white lotusâ€™.\\n', 'Sharva': 'Sharva, meaning â€˜destroyer or withdrawerâ€™, is the ninth manifestation of Rudra.\\n', 'Shivansh': 'Shivansh, meaning â€˜incarnation of Lord Shivaâ€™, is totally on the rise.\\n', 'Shlok': 'This Sanskrit name denotes a rhymed and metered phrase or poetic verse. It can even mean â€˜songâ€™.\\n', 'Shoumik': 'A favorite with Bengalis, Shoumik means â€˜powerfulâ€™.\\n', 'Shravas': 'Shravas, meaning â€˜prestigeâ€™, is a classy name for your baby boy.\\n', 'Shresht': 'Shresht is literally the best Hindu baby boy name, meaning â€˜best, king, superiorâ€™, will definitely make your son stand out.\\n', 'Shriyukt': 'Shriyukt is a thoroughly masculine name, meaning â€˜fortunate or famousâ€™.\\n', 'Shrut': 'Shrut is one of the several names of the all-pervading Lord Shiva. It means â€˜known or gloriousâ€™.\\n', 'Shrutadhi': 'Meaning â€˜respectable of knowledgeâ€™, Shrutadhi originates from the Sanskrit language.\\n', 'Shrutarshi': 'Shrutarshi refers to the someone who is distinguished by knowledge. It means â€˜a knowledgeable personâ€™.\\n', 'Shrutasena': 'A name that makes us want to take up bows and go for a battle, Shrutasena means â€˜famous armyâ€™.\\n', 'Shrutin': 'Shrutin, meaning â€˜one who has heardâ€™, evokes thought of class.\\n', 'Shrutva': 'A name thatâ€™s unique in all aspects, Shrutva means â€˜the one who is being heardâ€™.\\n', 'Shwetan': 'Shwetan is quite an ancient name, but is rarely used now. It means â€˜dawnâ€™.\\n', 'Siddh': 'Hereâ€™s another beautiful name in the traditional category. Siddh means â€˜fact or provenâ€™.\\n', 'Skanda': 'This elaborate, three syllable name is the 327th name of Lord Vishnu, as listed in Vishnu Sahasranama.\\n', 'Sudyut': 'Sudyut, meaning â€˜shining beautifullyâ€™, is too beautiful to not consider for your little one.\\n', 'Sujal': 'Sujal means â€˜affectionateâ€™, a quality every parent wants their child to have.\\n', 'Sukul': 'This cue word, meaning â€˜nobleâ€™, could make a unique name for your son.\\n', 'Suresh': 'Suresh is unique, traditional, and will boost your childâ€™s morale. It means â€˜ruler of Godsâ€™\\n', 'Sushok': 'Your child is sure to have a gleaming future with this name. Sushok means â€˜shining or beautifulâ€™.\\n', 'Svojas': 'Svojas is one of the names of Lord Ganesha. It means â€˜strong or powerfulâ€™.\\n', 'Tala': 'Literally meaning â€˜slapping the hands together or against oneâ€™s arm, melody, or danceâ€™ is the 358th name of Lord Shiva.\\n', 'Tarakshya': 'Tarakshya is also one of the names of Lord Shiva. It means â€˜gold, bird, horse, or snakeâ€™.\\n', 'Taral': 'Taral is a soft and lilting name, meaning â€˜liquidâ€™.\\n', 'Taras': 'Taras, meaning â€˜energetic or strengthâ€™, is perfect for a rough and tough young gentleman.\\n', 'Tatpara': 'Tatpara, meaning â€˜deeply engrossedâ€™, is one of the names of Lord Ganesha because He loves meditating.\\n', 'Tavisa': 'This Sanskrit origin name, meaning â€˜strong, energeticâ€™, continues to soar in popularity.\\n', 'Tavish': 'Tavish, meaning â€˜courageous, strong, goldâ€™, packs a huge punch.\\n', 'Tavya': 'Tavya, meaning â€˜strongâ€™, has a rockstar like appeal to it.\\n', 'Tejasvat': 'This prestigious name with Sanskrit roots means â€˜bright, glorious, and energyâ€™\\n', 'Ujesh': 'It would be safe to say that this rare name is quite unique. Ujesh means â€˜conqueringâ€™.\\n', 'Urjit': 'Urjit, meaning â€˜energized or powerfulâ€™, will give your son a daily dose of energy.\\n', 'Varenya': 'Names ending in â€˜yaâ€™ have a soft and amazing ring to them, take Varenya for example, which means â€˜best, excellent, wish forâ€™.\\n', 'Vasud': 'Vasud is the 269th name of Lord Vishnu and another name for Kubera. It means â€˜granting wealthâ€™.\\n', 'Vaydhish': 'Once popular decades ago, Vaydhish, meaning â€˜lord of Vedasâ€™ is all set to make a comeback.\\n', 'Vedhas': 'Vedhas means â€˜worshipper of Gods or wise and learned manâ€™. A popular bearer of this name is Harishchandraâ€™s fatherâ€™.\\n', 'Viaan': 'Just like its meaning, even the name Viaan is â€˜full of life and energyâ€™.\\n', 'Vidyot': 'In the Purana, Vidyot was the name of Dharmaâ€™s son and Sthanayitnuâ€™s father. It means â€˜flash of light or lightningâ€™.\\n', 'Vijna': 'Vijna has a certain twist which every mom will love. It means â€˜wise or intelligentâ€™.\\n', 'Viksya': 'Another unique Hindu baby boy name that earns a spot on this list is Viksya, which means â€˜actor, wonderful dancer, or astonishingâ€™.\\n', 'Viraaj': 'Viraaj, meaning â€˜brilliant, shiningâ€™, is an awesome name to bestow upon your child.\\n', 'Viswaroopin': 'If you like names that have a strong 80s presence, Viswaroopin, meaning â€˜appearing in various formsâ€™ would be perfect.\\n', 'Vrnda': 'Vrnda, meaning â€˜power or skillfulâ€™, is one of the names of Lord Krishna.\\n', 'Vyan': 'This cool names originates from the Sanskrit word â€˜vyAnaâ€™, which means breath or life givingâ€™.\\n', 'Yajvan': 'Yajvan is a unique Sanskrit origin name, meaning â€˜calm or peacefulâ€™.\\n', 'Yuvan': 'This boisterous baby name means â€˜healthy, strongâ€™.\\n', 'Yuvraj': 'This name Yuvraj, meaning â€˜princeâ€™, is usually used for the eldest son in the Rajput family.'}\n"
     ]
    }
   ],
   "source": [
    "x=0\n",
    "#counter=0\n",
    "name_key=\" \"\n",
    "name_value = \" \"\n",
    "name_details = {}\n",
    "with open(\"HindiNames4Boys.txt\", \"r\") as file:\n",
    "    #file = file.replace(\"'\", \"\")\n",
    "    while True:\n",
    "    #for i in range(20):\n",
    "        f = file.readline()\n",
    "        if not f: break\n",
    "        if f[0]==\"\\n\":\n",
    "            continue\n",
    "        if f[0].isdigit() and x==0:\n",
    "            #print(f.split(\" \")[1])\n",
    "            #name_key = f.split(\" \")[1]\n",
    "            name_key = re.findall(r\"[\\w']+\", f)[1]\n",
    "            x = 1\n",
    "            #counter=counter+1\n",
    "        elif x==1:\n",
    "            name_value = f.replace(\"/'\", \"\")\n",
    "            x=0\n",
    "        name_details[name_key] = name_value\n",
    "\n",
    "print(name_details)           "
   ]
  },
  {
   "cell_type": "code",
   "execution_count": 42,
   "metadata": {},
   "outputs": [],
   "source": [
    "with open(\"output.txt\", \"w\") as file:\n",
    "    for k, v in name_details.items():\n",
    "        file.write(str(k) + ' >>> '+ str(v) + '\\n\\n')"
   ]
  }
 ],
 "metadata": {
  "kernelspec": {
   "display_name": "Python 3",
   "language": "python",
   "name": "python3"
  },
  "language_info": {
   "codemirror_mode": {
    "name": "ipython",
    "version": 3
   },
   "file_extension": ".py",
   "mimetype": "text/x-python",
   "name": "python",
   "nbconvert_exporter": "python",
   "pygments_lexer": "ipython3",
   "version": "3.6.4"
  }
 },
 "nbformat": 4,
 "nbformat_minor": 2
}
